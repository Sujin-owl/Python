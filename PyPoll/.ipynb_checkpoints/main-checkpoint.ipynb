{
 "cells": [
  {
   "cell_type": "code",
   "execution_count": 65,
   "metadata": {},
   "outputs": [
    {
     "name": "stdout",
     "output_type": "stream",
     "text": [
      "Election Analysis\n",
      "--------------------------------------------------\n",
      "Total Votes: 3521001\n",
      "--------------------------------------------------\n",
      "Khan: 63.000% (2218231)\n",
      "Correy: 20.000% (704200)\n",
      "Li: 14.000% (492940)\n",
      "O'Tooley: 3.000% (105630)\n",
      "--------------------------------------------------\n",
      "Winner: Khan\n",
      "--------------------------------------------------\n"
     ]
    }
   ],
   "source": [
    "import os\n",
    "import csv\n",
    "\n",
    "election_csv_path = os.path.join(\"election_data.csv\")\n",
    "result_txt_path = os.path.join(\"results.txt\")\n",
    "\n",
    "print(\"Election Analysis\")\n",
    "print(\"-\"*50)\n",
    "\n",
    "\n",
    "total_votes = 0\n",
    "candidates_votes = {}\n",
    "votes_percent = {}\n",
    "Base = 0\n",
    "with open(election_csv_path, newline='') as csvfile:\n",
    "    csvreader = csv.reader(csvfile, delimiter=',')\n",
    "    header = next(csvreader)\n",
    "    for row in csvreader:\n",
    "        total_votes += 1\n",
    "        if row[2] in candidates_votes.keys():\n",
    "            candidates_votes[row[2]] += 1\n",
    "        else:\n",
    "            candidates_votes[row[2]] = 1\n",
    "\n",
    "\n",
    "for key,value in candidates_votes.items():\n",
    "    percent = round((int(value)/int(total_votes))*100,3)\n",
    "    votes_percent[key] = percent\n",
    "    if value > Base:\n",
    "        Winner = key\n",
    "        Base = value\n",
    "    \n",
    "print(f\"Total Votes: {total_votes}\")\n",
    "print(\"-\"*50)\n",
    "for key,value in candidates_votes.items():\n",
    "    print(f\"{key}: {votes_percent[key]}00% ({candidates_votes[key]})\")\n",
    "print(\"-\"*50)\n",
    "print(f\"Winner: {Winner}\")\n",
    "print(\"-\"*50)\n",
    "with open(result_txt_path, mode='w', newline='') as summary_txt:\n",
    "    writer = csv.writer(summary_txt)\n",
    "\n",
    "    writer.writerows([\n",
    "        [\"Electron Analysis for: \" + election_csv_path],\n",
    "        [\"-\" * 50],\n",
    "        [f\"Total Votes: {total_votes}\"],\n",
    "        [\"-\"*50],\n",
    "        [f\"{key}: {votes_percent[key]}00% ({candidates_votes[key]})\"],\n",
    "        [\"-\"*50],\n",
    "        [f\"Winner: {Winner}\"],\n",
    "        [\"-\"*50]\n",
    "        \n",
    "    ])"
   ]
  },
  {
   "cell_type": "code",
   "execution_count": null,
   "metadata": {},
   "outputs": [],
   "source": []
  },
  {
   "cell_type": "code",
   "execution_count": null,
   "metadata": {},
   "outputs": [],
   "source": []
  }
 ],
 "metadata": {
  "kernelspec": {
   "display_name": "Python 3",
   "language": "python",
   "name": "python3"
  },
  "language_info": {
   "codemirror_mode": {
    "name": "ipython",
    "version": 3
   },
   "file_extension": ".py",
   "mimetype": "text/x-python",
   "name": "python",
   "nbconvert_exporter": "python",
   "pygments_lexer": "ipython3",
   "version": "3.7.0"
  }
 },
 "nbformat": 4,
 "nbformat_minor": 2
}
